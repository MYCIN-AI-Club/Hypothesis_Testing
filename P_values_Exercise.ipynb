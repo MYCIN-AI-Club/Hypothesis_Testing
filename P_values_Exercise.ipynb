{
  "nbformat": 4,
  "nbformat_minor": 2,
  "metadata": {
    "colab": {
      "name": "Python Programming: P-values Exercise",
      "provenance": [],
      "collapsed_sections": [
        "6mM9tSmjPe_z",
        "GBzjNgPqPkUQ",
        "0MlbMO7mPoO8",
        "yGGq-E5IPrqz",
        "pI5iuOyWPtiy",
        "bJACLM_aPxgh"
      ],
      "toc_visible": true
    },
    "kernelspec": {
      "name": "python3",
      "display_name": "Python 3.8.5 64-bit ('base': conda)"
    },
    "language_info": {
      "name": "python",
      "version": "3.8.5",
      "mimetype": "text/x-python",
      "codemirror_mode": {
        "name": "ipython",
        "version": 3
      },
      "pygments_lexer": "ipython3",
      "nbconvert_exporter": "python",
      "file_extension": ".py"
    },
    "interpreter": {
      "hash": "8e24f623c9d976e65e43b538ecbbc4d478524c94015e92b14b460358aba5245a"
    }
  },
  "cells": [
    {
      "cell_type": "markdown",
      "source": [
        "<font color=\"green\">*To start working on this notebook, or any other notebook that we will use in the Moringa Data Science Course, we will need to save our own copy of it. We can do this by clicking File > Save a Copy in Drive. We will then be able to make edits to our own copy of this notebook.*</font>"
      ],
      "metadata": {
        "id": "zET8mJ6x00P5"
      }
    },
    {
      "cell_type": "markdown",
      "source": [
        "# Python Programming: P-values Exercise"
      ],
      "metadata": {
        "id": "9aiC1Pw8PUOK"
      }
    },
    {
      "cell_type": "markdown",
      "source": [
        "## Question 1"
      ],
      "metadata": {
        "id": "6mM9tSmjPe_z"
      }
    },
    {
      "cell_type": "markdown",
      "source": [
        "The Ministry of Roads and Transportation requires tire manufacturers to provide performance information on tire sidewalls to help prospective buyers make their purchasing decisions. One very important piece of information is the tread wear index, which indicates the tire’s resistance to tread wear. A tire with a grade of 200 should last twice as long, on average, as a tire with a grade of 100.\n",
        "A consumer organization wants to test the actual tread wear index of a brand name of tires that claims “graded 200” on the sidewall of the tire. A random sample of n = 18 indicates a sample mean tread wear index of 195.3 and a sample standard devia- tion of 21.4.\n",
        "\n",
        "1.   Is there evidence that the population mean tread wear index is different from 200? (Use a 0.05 level of significance.)\n",
        "2.   Determine the p-value and interpret its meaning.\n"
      ],
      "metadata": {
        "id": "TvPSIOCVP7h_"
      }
    },
    {
      "cell_type": "code",
      "execution_count": 22,
      "source": [
        "#https://www.analyticsvidhya.com/blog/2021/07/t-test-performing-hypothesis-testing-with-python/\r\n",
        "# Systolic blood pressures of 14 patients are given below:\r\n",
        "\r\n",
        "# 183, 152, 178, 157, 194, 163, 144, 114, 178, 152, 118, 158, 172, 138\r\n",
        "\r\n",
        "# Test, whether the population mean, is less than 165\r\n",
        "\r\n",
        "# Hypothesis\r\n",
        "# H0: There is no significant mean difference in systolic blood pressure. i.e., μ = 165\r\n",
        "\r\n",
        "# H1: The population mean is less than 165. i.e., μ < 165\r\n",
        "\r\n",
        "\r\n",
        "sys_bp=[183, 152, 178, 157, 194, 163, 144, 114, 178, 152, 118, 158, 172, 138]\r\n",
        "\r\n",
        "\r\n",
        "mu = 165\r\n",
        "\r\n",
        "from scipy import stats\r\n",
        "\r\n",
        "t_value,p_value=stats.ttest_1samp(sys_bp,mu)\r\n",
        "\r\n",
        "\r\n",
        "one_tailed_p_value=float(\"{:.6f}\".format(p_value/2)) # Since alternative hypothesis is one tailed, We need to divide the p value by 2.\r\n",
        "\r\n",
        "print('Test statistic is %f'%float(\"{:.6f}\".format(t_value)))\r\n",
        "\r\n",
        "print('p-value for one tailed test is %f'%one_tailed_p_value)\r\n",
        "\r\n",
        "alpha = 0.05\r\n",
        "\r\n",
        "if one_tailed_p_value<=alpha:\r\n",
        "\r\n",
        "    print('Conclusion','n','Since p-value(=%f)'%p_value,'<','alpha(=%.2f)'%alpha,'''We reject the null hypothesis H0. \r\n",
        "\r\n",
        "So we conclude that there is no significant mean difference in systolic blood pressure. \r\n",
        "\r\n",
        "i.e., μ = 165 at %.2f level of significance'''%alpha)\r\n",
        "\r\n",
        "else:\r\n",
        "    \r\n",
        "    print('Conclusion','n','Since p-value(=%f)'%one_tailed_p_value,'>','alpha(=%.2f)'%alpha)\r\n",
        "\r\n"
      ],
      "outputs": [
        {
          "output_type": "stream",
          "name": "stdout",
          "text": [
            "Test statistic is -1.243183\n",
            "p-value for one tailed test is 0.117877\n",
            "Conclusion n Since p-value(=0.117877) > alpha(=0.05)\n"
          ]
        }
      ],
      "metadata": {}
    },
    {
      "cell_type": "code",
      "execution_count": 41,
      "source": [
        "# t Test for Hypothesis of the Mean\r\n",
        "#\r\n",
        "\r\n",
        "# \r\n",
        "#OUR CODE GOES HERE\r\n",
        "# Find the z score \r\n",
        "n = 18\r\n",
        "t_mean = 195.3\r\n",
        "t_std = 21.4\r\n",
        "zscore = (n-t_mean)/t_std\r\n",
        "\r\n",
        "#Find the p-value \r\n",
        "#import norm function from the scipy library\r\n",
        "from scipy import stats\r\n",
        "import scipy.stats\r\n",
        "from scipy.stats import norm\r\n",
        "prob = stats.norm.cdf(zscore)\r\n",
        "prob\r\n",
        "\r\n",
        "\r\n",
        "print(\"the z-score is \" + str(zscore))\r\n",
        "print(\"the P value is \" + str(prob))\r\n"
      ],
      "outputs": [
        {
          "output_type": "stream",
          "name": "stdout",
          "text": [
            "the z-score is -8.285046728971963\n",
            "the P value is 5.903136010034462e-17\n"
          ]
        }
      ],
      "metadata": {
        "id": "eOV0l_iOPOT7"
      }
    },
    {
      "cell_type": "markdown",
      "source": [
        "## Question 2"
      ],
      "metadata": {
        "id": "GBzjNgPqPkUQ"
      }
    },
    {
      "cell_type": "markdown",
      "source": [
        "The following data represents the amount of soft drink filled in a sample of 50 consecutive 2-liter bottles. The results, listed horizontally in the order of being filled, were:\r\n",
        "\r\n",
        "2.109 2.086 2.036 2.038 2.015 2.014 2.005 2.003 1.984 1.981 1.963 1.957 1.908 1.894 2.066 2.075 2.031 2.029 2.013 2.014 1.999 1.996 1.973 1.975 1.951 1.951 2.065 2.057 2.025 2.029 2.012 2.012 1.997 1.992 1.971 1.969 1.947 1.941 2.052 2.044 2.023 2.020 2.012 2.010 1.994 1.986 1.966 1.967 1.941 1.938\r\n",
        "\r\n",
        "At the 0.05 level of significance, is there evidence that the mean amount of soft drink filled is different from 2.0 liters?\r\n",
        "Determine the p-value in (1) and interpret its meaning.\r\n",
        "In (1), you assumed that the distribution of the amount of soft drink filled was normally distributed. Evaluate this assumption by constructing a boxplot or a normal probability plot.\r\n",
        "Do you think that the assumption needed in order to conduct the t test in (1) is valid? Explain.\r\n",
        "Examine the values of the 50 bottles in their sequential order, as given in the problem. Does there appear to be a pattern to the results? If so, what impact might this pattern have on the validity of the results in (1)?"
      ],
      "metadata": {}
    },
    {
      "cell_type": "code",
      "execution_count": 43,
      "source": [
        "drinks = \"2.109 2.086 2.036 2.038 2.015 2.014 2.005 2.003 1.984 1.981 1.963 1.957 1.908 1.894 2.066 2.075 2.031 2.029 2.013 2.014 1.999 1.996 1.973 1.975 1.951 1.951 2.065 2.057 2.025 2.029 2.012 2.012 1.997 1.992 1.971 1.969 1.947 1.941 2.052 2.044 2.023 2.020 2.012 2.010 1.994 1.986 1.966 1.967 1.941 1.938\"\r\n",
        "data = drinks.split()\r\n",
        "#We should use z-test ssince number is more than 30\r\n",
        "drinks_data = [float(i) for i in data]\r\n",
        "print(len(drinks_data))\r\n",
        "mu = 2.0\r\n",
        "t_value,p_value=stats.ttest_1samp(drinks_data,mu)\r\n",
        "\r\n",
        "print(\"the P-Value is \"+ str(p_value))\r\n",
        "print(drinks_data)\r\n",
        "#Since the p-value is more than the significant level, we accept the null hypothesis that the mean is 2.0l\r\n"
      ],
      "outputs": [
        {
          "output_type": "stream",
          "name": "stdout",
          "text": [
            "50\n",
            "the P-Value is 0.9095105442498366\n",
            "[2.109, 2.086, 2.036, 2.038, 2.015, 2.014, 2.005, 2.003, 1.984, 1.981, 1.963, 1.957, 1.908, 1.894, 2.066, 2.075, 2.031, 2.029, 2.013, 2.014, 1.999, 1.996, 1.973, 1.975, 1.951, 1.951, 2.065, 2.057, 2.025, 2.029, 2.012, 2.012, 1.997, 1.992, 1.971, 1.969, 1.947, 1.941, 2.052, 2.044, 2.023, 2.02, 2.012, 2.01, 1.994, 1.986, 1.966, 1.967, 1.941, 1.938]\n"
          ]
        }
      ],
      "metadata": {
        "id": "fgiqIWaSPmNg"
      }
    },
    {
      "cell_type": "code",
      "execution_count": 31,
      "source": [
        "#From the drinks data take 10 and compare if there is difference \r\n",
        "import numpy as np \r\n",
        "sample_size = 10\r\n",
        "bottle_sample = np.random.choice(drinks_data, sample_size)\r\n",
        "bottle_sample"
      ],
      "outputs": [
        {
          "output_type": "execute_result",
          "data": {
            "text/plain": [
              "array([2.014, 2.052, 1.992, 1.994, 2.01 , 2.01 , 1.941, 1.981, 1.941,\n",
              "       2.086])"
            ]
          },
          "metadata": {},
          "execution_count": 31
        }
      ],
      "metadata": {}
    },
    {
      "cell_type": "code",
      "execution_count": 32,
      "source": [
        "drinks_mean=np.mean(drinks_data)\r\n",
        "sample_mean=np.mean(bottle_sample)"
      ],
      "outputs": [],
      "metadata": {}
    },
    {
      "cell_type": "code",
      "execution_count": 37,
      "source": [
        "#checking if they have significant difference \r\n",
        "t_value,p_value=stats.ttest_1samp(bottle_sample,drinks_mean)\r\n",
        "t_value,p_value"
      ],
      "outputs": [
        {
          "output_type": "execute_result",
          "data": {
            "text/plain": [
              "(0.09792160668271567, 0.9241406788245341)"
            ]
          },
          "metadata": {},
          "execution_count": 37
        }
      ],
      "metadata": {}
    },
    {
      "cell_type": "code",
      "execution_count": 42,
      "source": [
        "# def systematic_sampling(df,r,n):\r\n",
        "#     step=df.shape[0]//n\r\n",
        "#     indexes = np.arange(start=r, stop= len(df), step=step)\r\n",
        "#     systematic_sample = df[indexes]\r\n",
        "#     return systematic_sample#, indexes\r\n",
        "# systematic_sampling(bottle_df,0,10)\r\n"
      ],
      "outputs": [],
      "metadata": {}
    },
    {
      "cell_type": "markdown",
      "source": [
        "## Question 3"
      ],
      "metadata": {
        "id": "0MlbMO7mPoO8"
      }
    },
    {
      "cell_type": "markdown",
      "source": [
        "The population mean waiting time to check out of a supermarket has been 4 minutes. recently, in an effort to reduce the waiting time, the supermarket has experimented with a system in which infrared cameras use body heat and in-store software to determine how many lanes should be opened. A sample of 100 customers was selected, and their mean waiting time to check out was 3.25 minutes, with a sample standard deviation of 2.7 minutes.\r\n",
        "\r\n",
        "1. At the 0.05 level of significance, using the p-value approach to hypothesis testing, is there evidence that the population mean waiting time to check out is less than 4 minutes?\r\n",
        "2. Interpret the meaning of the p-value in this problem.  "
      ],
      "metadata": {
        "id": "awqKcADiUdyT"
      }
    },
    {
      "cell_type": "code",
      "execution_count": null,
      "source": [
        "mu = 3.25\r\n",
        "\r\n"
      ],
      "outputs": [],
      "metadata": {}
    },
    {
      "cell_type": "code",
      "execution_count": null,
      "source": [
        "\r\n"
      ],
      "outputs": [],
      "metadata": {
        "id": "86VoKwOMPrH1"
      }
    },
    {
      "cell_type": "markdown",
      "source": [
        "## Question 4"
      ],
      "metadata": {
        "id": "yGGq-E5IPrqz"
      }
    },
    {
      "cell_type": "markdown",
      "source": [
        "A survey of nonprofit organizations showed that online fun- draising has increased in the past year. Based on a random sample of 55 nonprofit organizations, the mean one-time gift donation in the past year was Ksh. 750, with a standard deviation of Ksh. 900.\n",
        "\n",
        "1. If you test the null hypothesis at the 0.01 level of significance, is there evidence that the mean one-time gift donation is greater than Ksh. 700?\n",
        "2. Interpret the meaning of the p-value in this problem."
      ],
      "metadata": {
        "id": "yFU6w1bNVRhO"
      }
    },
    {
      "cell_type": "code",
      "execution_count": null,
      "source": [
        "OUR CODE GOES HERE"
      ],
      "outputs": [],
      "metadata": {
        "id": "LPRpuQe1PtI0"
      }
    },
    {
      "cell_type": "markdown",
      "source": [
        "## Question 5"
      ],
      "metadata": {
        "id": "pI5iuOyWPtiy"
      }
    },
    {
      "cell_type": "markdown",
      "source": [
        "A problem with a phone line that prevents a customer from receiving or making calls is upsetting to both the customer and the telecommunications company. The file Phone contains samples of 20 problems reported to two different offices of a telecommuni- cations company and the time to clear these problems (in minutes) from the customers’ lines:\n",
        "\n",
        "Central Office I Time to Clear Problems (minutes)\n",
        "1.48 1.75 0.78 2.85 0.52 1.60 4.15 3.97 1.48 3.10 1.02 0.53 0.93 1.60 0.80 1.05 6.32 3.93 5.45 0.97\n",
        "\n",
        "Central Office II Time to Clear Problems (minutes)\n",
        "7.55 3.75 0.10 1.10 0.60 0.52 3.30 2.10 0.58 4.02 3.75 0.65 1.92 0.60 1.53 4.23 0.08 1.48 1.65 0.72\n",
        "\n",
        "1. Assuming that the population variances from both offices are equal, is there evidence of a difference in the mean waiting time between the two offices? (Use a = 0.05.)\n",
        "2. Find the p-value in (1) and interpret its meaning.\n",
        "3. What other assumption is necessary in (1)?\n",
        "4. Assuming that the population variances from both offices are equal, construct and interpret a 95% confidence interval estimate of the difference between the population means in the two offices."
      ],
      "metadata": {
        "id": "1llPF-60lCVw"
      }
    },
    {
      "cell_type": "code",
      "execution_count": null,
      "source": [
        "OUR CODE GOES HERE"
      ],
      "outputs": [],
      "metadata": {
        "id": "-zGKBL30Pvii"
      }
    },
    {
      "cell_type": "markdown",
      "source": [
        "## Question 6"
      ],
      "metadata": {
        "id": "bJACLM_aPxgh"
      }
    },
    {
      "cell_type": "markdown",
      "source": [
        "A bank with a branch located in a commercial district of a city has the business objective of developing an improved process for serving customers during the noon-to-1 p.m. lunch period. Management decides to first study the waiting time in the current process. The waiting time is defined as the number of minutes that elapses from when the customer enters the line until he or she reaches the teller window. Data are collected from a random sample of 15 customers and stored in Bank1. \n",
        "\n",
        "These data are:\n",
        "4.21 5.55 3.02 5.13 4.77 2.34 3.54 3.20 4.50 6.10 0.38 5.12 6.46 6.19 3.79\n",
        "\n",
        "Suppose that another branch, located in a residential area, is also concerned with improving the process of serving customers in the noon-to-1 p.m. lunch period. Data are collected from a random sample of 15 customers and stored in Bank2. \n",
        "\n",
        "These data are:\n",
        "9.66 5.90 8.02 5.79 8.73 3.82 8.01 8.35 10.49 6.68 5.64 4.08 6.17 9.91 5.47\n",
        "\n",
        "\n",
        "1. Assuming that the population variances from both banks are equal, is there evidence of a difference in the mean waiting time between the two branches? (Use a = 0.05.)\n",
        "2. Determine the p-value in (a) and interpret its meaning.\n",
        "3. In addition to equal variances, what other assumption is neces-\n",
        "sary in (a)?\n",
        "4. Construct and interpret a 95% confidence interval estimate\n",
        "of the difference between the population means in the two branches."
      ],
      "metadata": {
        "id": "b0reIjDDrIWX"
      }
    },
    {
      "cell_type": "code",
      "execution_count": null,
      "source": [
        "OUR CODE GOES HERE"
      ],
      "outputs": [],
      "metadata": {
        "id": "wu5rk7fNPy6J"
      }
    }
  ]
}